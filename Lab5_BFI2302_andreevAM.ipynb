{
 "cells": [
  {
   "cell_type": "markdown",
   "id": "db4b50f0",
   "metadata": {
    "id": "db4b50f0"
   },
   "source": [
    "# Лабораторная работа №5\n",
    "## Выполнил студент группы ФИО ГРУППА"
   ]
  },
  {
   "cell_type": "markdown",
   "id": "annual-symbol",
   "metadata": {
    "id": "annual-symbol"
   },
   "source": [
    "### Оглавление\n",
    "1. [Задание 1](#Задание-№1)\n",
    "2. [Задание 2](#Задание-№2)\n",
    "4. [Вывод](#Вывод)"
   ]
  },
  {
   "cell_type": "markdown",
   "id": "independent-spirit",
   "metadata": {
    "id": "independent-spirit"
   },
   "source": [
    "> Дополнительные модули, использованные при выполнение лабораторной"
   ]
  },
  {
   "cell_type": "code",
   "execution_count": 61,
   "id": "4839be2b",
   "metadata": {
    "id": "4839be2b"
   },
   "outputs": [],
   "source": [
    "# Необходим при замере скорости выполнения кода\n",
    "from datetime import datetime as t\n",
    "# Нужен для создания словаря в алг. Бойера-Мура\n",
    "from collections import defaultdict"
   ]
  },
  {
   "cell_type": "code",
   "execution_count": 39,
   "id": "4ed38876",
   "metadata": {},
   "outputs": [],
   "source": [
    "import time\n",
    "\n",
    "def timer(func):\n",
    "    def wrapper(*args, **kwargs):\n",
    "        start_time = time.time()\n",
    "        value = func(*args, **kwargs)\n",
    "        print(f\"--- {time.time() - start_time:.6f} ms ---\")\n",
    "        return value\n",
    "    return wrapper\n",
    "\n",
    "def userInput(prompt, default):\n",
    "    u = input(prompt)\n",
    "    return str(u) if u.strip() else default\n",
    "\n",
    "def driver (func):\n",
    "    def wrapper():\n",
    "        main_string = userInput(\"Enter the main string: \",\"Around the world around The World\")\n",
    "        substring = userInput(\"Enter the substring: \",\"The World\")\n",
    "        option = userInput(\"Case sensitive? (Y/N): \",\"n\").lower()\n",
    "        case_sensitive = True if option == 'y' else False\n",
    "        print(\"Text:\", main_string, \"\\nPattern:\", substring, \"\\nCase sensitive:\", \"yes\" if case_sensitive else \"no\")\n",
    "        print(\"Matches found at:\", func(main_string, substring, case_sensitive))\n",
    "    return wrapper"
   ]
  },
  {
   "cell_type": "markdown",
   "id": "inclusive-motorcycle",
   "metadata": {
    "id": "inclusive-motorcycle"
   },
   "source": [
    "### Задание №1\n",
    "Реализовать методы поиска подстроки в строке. Добавить возможность ввода строки и подстроки с клавиатуры. Предусмотреть возможность существования пробела. Реализовать возможность выбора опции чувствительности или нечувствительности к регистру. Оценить время работы каждого алгоритма поиска и сравнить его со временем работы стандартной функции поиска, используемой в выбранном языке программирования."
   ]
  },
  {
   "cell_type": "code",
   "execution_count": null,
   "id": "800f361a",
   "metadata": {},
   "outputs": [
    {
     "name": "stdout",
     "output_type": "stream",
     "text": [
      "Text: Around the world around The World \n",
      "Pattern: The World \n",
      "Case sensitive: no\n",
      "--- 0.000003 ms ---\n",
      "Matches found at: True\n"
     ]
    }
   ],
   "source": [
    "'''Standard python search function'''\n",
    "@driver\n",
    "@timer\n",
    "def find_substring(main_string, substring, case_sensitive=True):\n",
    "    start = 0\n",
    "    end = len(main_string)\n",
    "    search_space = main_string[start:end]\n",
    "    if not case_sensitive:\n",
    "        search_space = search_space.lower()\n",
    "        substring = substring.lower()\n",
    "    return substring in search_space\n",
    "find_substring()\n",
    "'''(returns a bool vlaue)'''"
   ]
  },
  {
   "cell_type": "markdown",
   "id": "interracial-communication",
   "metadata": {
    "id": "interracial-communication"
   },
   "source": [
    "#### Алгоритм Кнута-Морриса-Пратта"
   ]
  },
  {
   "cell_type": "code",
   "execution_count": null,
   "id": "presidential-level",
   "metadata": {
    "id": "presidential-level"
   },
   "outputs": [
    {
     "name": "stdout",
     "output_type": "stream",
     "text": [
      "Text: Around the world around The World \n",
      "Pattern: The World \n",
      "Case sensitive: no\n",
      "--- 0.000037 ms ---\n",
      "Matches found at: [7, 24]\n"
     ]
    }
   ],
   "source": [
    "'''\n",
    "Pattern and text are compared iteratively (each one's pointer increments with every character match)\n",
    "On a mismatch, the pattern pointer resets to the previously matched character's index\n",
    "FOR NON-REPETITIVE PATTERNS:\n",
    "lps[i] is the index in the pattern to which we jump when a mismatch occurs\n",
    "Example: \"world\" has no repeating character sequences so we jump to index 0 every time\n",
    "FOR REPETITIVE PATTERNS:\n",
    "For each pattern index, an overlap length is calculated that acts as an index\n",
    "to jump to after a mismatch or a full match\n",
    "\n",
    "For each (0...i) substring in the pattern, the prefix function looks for \n",
    "the longest proper prefix that is also a suffix\n",
    "(the length is 0 if the prefix and suffix for a given string do not match)\n",
    "the length of that LPS matches the index in the pattern to which we can safely jump\n",
    "upon a mismatch or full match without the need to traverse the characters before that index\n",
    "(LPS length = \"hom many characters will be automatically matching before this one\")\n",
    "Pattern ACACBAC lps:[0,0,1,2,0,1,2]\n",
    "|0:\"\"/\"\"|1:\"\"/\"\"|2:\"A\"/\"A\"|3:\"AC\"/\"AC\"|4:\"\"/\"\"|5:\"A\"/\"A\"|6:\"AC\"/\"AC\"|\n",
    "'''\n",
    "def construct_lps(pattern, case_sensitive):\n",
    "    lps = [0] * len(pattern) # pattern-length list of zeroes\n",
    "    overlap_length = 0 # length of a prefix-suffix\n",
    "    i = 1\n",
    "    while i < len(pattern): # iterating though the pattern\n",
    "        prefix = pattern[i] if case_sensitive else pattern[i].lower() # prefix of patten[i]\n",
    "        suffix = pattern[overlap_length] if case_sensitive else pattern[overlap_length].lower() # suffix of pattern[i]\n",
    "        if prefix == suffix:\n",
    "            overlap_length += 1\n",
    "            lps[i] = overlap_length\n",
    "            i += 1\n",
    "        else:\n",
    "            if overlap_length != 0:\n",
    "                overlap_length = lps[overlap_length - 1]\n",
    "            else:\n",
    "                lps[i] = 0\n",
    "                i += 1\n",
    "    return lps\n",
    "@driver\n",
    "@timer\n",
    "def kmp_search(text, pattern, case_sensitive):\n",
    "    if not pattern:\n",
    "        return []  # Edge case: empty pattern    \n",
    "    lps = construct_lps(pattern, case_sensitive)\n",
    "    i = 0\n",
    "    j = 0\n",
    "    matches = []\n",
    "    while i < len(text):\n",
    "\n",
    "        text_char = text[i] if case_sensitive else text[i].lower()\n",
    "        pattern_char = pattern[j] if case_sensitive else pattern[j].lower()\n",
    "        if text_char == pattern_char: # text and pattern characters match\n",
    "            i += 1 # both pointers are incremented\n",
    "            j += 1\n",
    "            if j == len(pattern): # entire pattern traversed - full match found\n",
    "                matches.append(i - j) # current position in text - pattern length = start of matched sequence\n",
    "                j = lps[j - 1]  # pattern iterator reset to the overlap index for that index of the pattern\n",
    "        else: # text and pattern characters don't match\n",
    "            if j != 0:\n",
    "                j = lps[j - 1] # iterator reset to the last matched sequence for that index\n",
    "            else:\n",
    "                i += 1\n",
    "    return matches\n",
    "\n",
    "if __name__ == \"__main__\":\n",
    "    kmp_search()\n",
    "\n",
    "    # text = \"Around the world around The World\"\n",
    "    # pattern = \"The World\"\n",
    "    # print(\"Text:\", text)\n",
    "    # print(\"Pattern:\", pattern)\n",
    "    # # Case-sensitive search (default)\n",
    "    # result_case_sensitive = kmp_search(text, pattern, case_sensitive=True)\n",
    "    # print(\"Case-sensitive matches:\", result_case_sensitive) \n",
    "    # # Case-insensitive search\n",
    "    # result_case_insensitive = kmp_search(text, pattern, case_sensitive=False)\n",
    "    # print(\"Case-insensitive matches:\", result_case_insensitive)"
   ]
  },
  {
   "cell_type": "markdown",
   "id": "downtown-option",
   "metadata": {
    "id": "downtown-option"
   },
   "source": [
    "#### Упрощенный алгоритм Бойера-Мура"
   ]
  },
  {
   "cell_type": "code",
   "execution_count": null,
   "id": "respective-reggae",
   "metadata": {
    "id": "respective-reggae"
   },
   "outputs": [
    {
     "name": "stdout",
     "output_type": "stream",
     "text": [
      "Text: Around the world around The World \n",
      "Pattern: The World\n",
      "--- 0.000025 ms ---\n",
      "Matches found at: [7, 24]\n"
     ]
    }
   ],
   "source": [
    "'''\n",
    "The pattern and the text are aligned and iteratively compared backwards.\n",
    "When a mismatch occurs, the last occurence in the pattern of the mismatched chracter in the text is looked up.\n",
    "If the mismatched character is present in the pattern, the pattern is shifted to align that character with the character in the text.\n",
    "If the mismatched character is not present in the pattern, the pattern is shifted past the mismatched character.\n",
    "The pattern is iteratively compared with the text again until a perfect match is found.\n",
    "'''\n",
    "def badCharHeuristic(string, size):\n",
    "    badChar = defaultdict(lambda: -1) \n",
    "    for i in range(size):\n",
    "        badChar[ord(string[i])] = i \n",
    "        # the indices are ASCII character codes\n",
    "        # the values are presence of the characters in the pattern\n",
    "        # i>=0 - rightmost occurence of the character | -1 - character not present\n",
    "    return badChar\n",
    "@driver\n",
    "@timer\n",
    "def BMsearch(txt, pat, case_sensitive):\n",
    "    m = len(pat)\n",
    "    n = len(txt)\n",
    "    badChar = badCharHeuristic(pat, m)\n",
    "    s = 0\n",
    "    matches = []\n",
    "    while(s <= n-m): # as long as shift size is smaller than len(text)-len(pattern)\n",
    "        j = m-1 # rightmost char index value is less than pattern length by 1\n",
    "        while j >= 0:\n",
    "            pat_char = pat[j] if case_sensitive else pat[j].lower()\n",
    "            txt_char = txt[s+j] if case_sensitive else txt[s+j].lower()\n",
    "            if pat_char != txt_char: # break loop when mismatch\n",
    "                break\n",
    "            j -= 1 # decrement pattern iterator\n",
    "        if j < 0: # j = -1 - pattern traversed, full match found\n",
    "            matches.append(s)\n",
    "            # shift = pattern length - rightmost occurence of the next character\n",
    "            s += (m-badChar[ord(txt[s+m] if case_sensitive else txt[s+m].lower())] if s+m < n else 1)\n",
    "            # Shift the pattern so that the next character in the text\n",
    "            # aligns with its rightmost occurence in the pattern\n",
    "            # The s+m<n condition prevents going out of range\n",
    "            # The m-badChar is for shifting past the character\n",
    "            # not present in the pattern (shift by len(pattern)+1)\n",
    "        else: # pattern iteration incomplete, mismatch occured\n",
    "            s += max(1, j-badChar[ord(txt[s+j] if case_sensitive else txt[s+j].lower())])\n",
    "            # Shift the pattern so that the mismatched character in the text\n",
    "            # aligns with its rightmost occurence in the pattern\n",
    "            # The max function prevents shifting backwards\n",
    "    return matches\n",
    "    \n",
    "if __name__ == \"__main__\":\n",
    "    BMsearch()\n",
    "\n",
    "    # text = \"Around the world around The World\"\n",
    "    # pattern = \"The World\"\n",
    "    # print(\"Text:\", text, \"\\nPattern:\", pattern)\n",
    "    # print(\"Matches found at:\", BMsearch(text, pattern, False))"
   ]
  },
  {
   "cell_type": "markdown",
   "id": "hybrid-memorial",
   "metadata": {
    "id": "hybrid-memorial"
   },
   "source": [
    "### Задание №2\n",
    "Написать программу, определяющую, является ли данное\n",
    "расположение «решаемым», то есть можно ли из него за конечное число\n",
    "шагов перейти к правильному. Если это возможно, то необходимо найти хотя\n",
    "бы одно решение - последовательность движений, после которой числа будут\n",
    "расположены в правильном порядке.\n",
    "##### Входные данные:\n",
    "Массив чисел, представляющий собой расстановку в порядке «слева направо, сверху вниз». Число 0 обозначает пустое поле.\n",
    "Например, массив [1, 2, 3, 4, 5, 6, 7, 8, 9, 10, 11, 12, 13, 14, 15, 0] представляет\n",
    "собой «решенную» позицию элементов.\n",
    "##### Выходные данные: \n",
    "Если решения нет, то функция должна вернуть пустой массив []. Если решение есть, то необходимо представить решение —\n",
    "для каждого шага записывается номер передвигаемого на данном шаге\n",
    "элемента. "
   ]
  },
  {
   "cell_type": "code",
   "execution_count": null,
   "id": "eleven-generic",
   "metadata": {
    "id": "eleven-generic"
   },
   "outputs": [],
   "source": []
  },
  {
   "cell_type": "markdown",
   "id": "arbitrary-amazon",
   "metadata": {
    "id": "arbitrary-amazon"
   },
   "source": [
    "### Вывод"
   ]
  },
  {
   "cell_type": "markdown",
   "id": "71bc58bf",
   "metadata": {
    "id": "71bc58bf"
   },
   "source": []
  }
 ],
 "metadata": {
  "colab": {
   "provenance": []
  },
  "kernelspec": {
   "display_name": ".venv",
   "language": "python",
   "name": "python3"
  },
  "language_info": {
   "codemirror_mode": {
    "name": "ipython",
    "version": 3
   },
   "file_extension": ".py",
   "mimetype": "text/x-python",
   "name": "python",
   "nbconvert_exporter": "python",
   "pygments_lexer": "ipython3",
   "version": "3.13.2"
  }
 },
 "nbformat": 4,
 "nbformat_minor": 5
}
