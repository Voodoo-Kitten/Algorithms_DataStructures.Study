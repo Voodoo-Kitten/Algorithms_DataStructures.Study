{
 "cells": [
  {
   "cell_type": "markdown",
   "id": "fifteen-sailing",
   "metadata": {
    "id": "fifteen-sailing"
   },
   "source": [
    "# Лабораторная работа №1\n",
    "## Выполнил студент группы БФИ2302 АндреевАМ"
   ]
  },
  {
   "cell_type": "markdown",
   "id": "particular-syndicate",
   "metadata": {
    "id": "particular-syndicate"
   },
   "source": [
    "### Оглавление\n",
    "1. [Задание 1](#Задание-№1)\n",
    "2. [Задание 2](#Задание-№2)\n",
    "3. [Задание 3](#Задание-№3)\n",
    "4. [Вывод](#Вывод)"
   ]
  },
  {
   "cell_type": "markdown",
   "id": "arctic-stocks",
   "metadata": {
    "id": "arctic-stocks"
   },
   "source": [
    "### Задание №1\n",
    "<i> Вызвать функцию print() и передать туда строку Hello, World! </i>"
   ]
  },
  {
   "cell_type": "code",
   "execution_count": null,
   "id": "caring-truck",
   "metadata": {
    "id": "caring-truck",
    "scrolled": true
   },
   "outputs": [],
   "source": [
    "print(\"Hello, World!\")"
   ]
  },
  {
   "cell_type": "markdown",
   "id": "maritime-conversation",
   "metadata": {
    "id": "maritime-conversation"
   },
   "source": [
    "### Задание №2\n",
    "Написать генератор случайных матриц(многомерных), который принимает\n",
    "опциональные параметры <b>m</b>, <b>n</b>, <b>min_limit</b>, <b>max_limit</b>, где <b>m</b> и <b>n</b> указывают размер\n",
    "матрицы, а <b>min_lim</b> и <b>max_lim</b> - минимальное и максимальное значение для\n",
    "генерируемого числа."
   ]
  },
  {
   "cell_type": "code",
   "execution_count": null,
   "id": "108b1a22",
   "metadata": {},
   "outputs": [],
   "source": [
    "import random\n",
    "import time\n",
    "import numpy as np"
   ]
  },
  {
   "cell_type": "code",
   "execution_count": null,
   "id": "alert-charm",
   "metadata": {
    "id": "alert-charm",
    "outputId": "c95dd9e7-d076-4718-b6fb-25f2e6bc03b9"
   },
   "outputs": [],
   "source": [
    "def userInput(prompt, default):\n",
    "    u = input(prompt)\n",
    "    return int(u) if u.strip() else default\n",
    "\n",
    "def argProvider (func):\n",
    "    def wrapper():\n",
    "        m = userInput(\"Rows: \",50)\n",
    "        n = userInput(\"Columns: \",50)\n",
    "        user_min = userInput(\"MinRand: \",-250)\n",
    "        user_max = userInput(\"MaxRand: \",1000)\n",
    "        value = func(m,n,user_min,user_max)\n",
    "        return value\n",
    "    return wrapper\n",
    "\n",
    "def timer(func):\n",
    "    def wrapper(*args, **kwargs):\n",
    "        start_time = time.time()\n",
    "        value = func(*args, **kwargs)\n",
    "        print(\"--- {0} ms ---\".format(round((time.time() - start_time)*1000)))\n",
    "        return value\n",
    "    return wrapper\n",
    "\n",
    "@argProvider\n",
    "@timer\n",
    "def nestedFor(m,n,user_min,user_max):\n",
    "    matrix = []\n",
    "    for row in range(m):\n",
    "        a = []\n",
    "        for col in range(n):\n",
    "            a.append(random.randint(user_min,user_max))\n",
    "        matrix.append(a)\n",
    "    return matrix\n",
    "\n",
    "@argProvider\n",
    "@timer\n",
    "def listComp(m,n,user_min,user_max):\n",
    "    return [[random.randint(user_min,user_max) for _ in range(n)] for _ in range(m)]\n",
    "\n",
    "@argProvider\n",
    "@timer\n",
    "def numPy(m,n,user_min,user_max):\n",
    "    return np.random.randint(user_min,user_max+1,size=(m,n))"
   ]
  },
  {
   "cell_type": "code",
   "execution_count": null,
   "id": "d6582e8f",
   "metadata": {},
   "outputs": [],
   "source": [
    "generated = nestedFor()\n",
    "for row in generated:\n",
    "    print(row)"
   ]
  },
  {
   "cell_type": "code",
   "execution_count": null,
   "id": "1bf349b0",
   "metadata": {},
   "outputs": [],
   "source": [
    "generated = listComp()\n",
    "for row in generated:\n",
    "    print(row)"
   ]
  },
  {
   "cell_type": "code",
   "execution_count": null,
   "id": "df927d1e",
   "metadata": {},
   "outputs": [],
   "source": [
    "generated = numPy()\n",
    "for row in generated:\n",
    "    print(row)"
   ]
  },
  {
   "cell_type": "markdown",
   "id": "catholic-roots",
   "metadata": {
    "id": "catholic-roots"
   },
   "source": [
    "### Задание №3\n",
    "Реализовать методы сортировки строк числовой матрицы в соответствии с\n",
    "заданием. Оценить время работы каждого алгоритма сортировки и сравнить его со\n",
    "временем стандартной функции сортировки. Испытания проводить на сгенерированных\n",
    "матрицах."
   ]
  },
  {
   "cell_type": "code",
   "execution_count": null,
   "id": "aad42182",
   "metadata": {},
   "outputs": [],
   "source": [
    "# calls generator, prints generated list, passes it to sorter, prints sorted list\n",
    "def driver(func):\n",
    "    def wrapper():\n",
    "        matrix_generated = listComp()\n",
    "        for row in matrix_generated:\n",
    "            print(row)\n",
    "        matrix_sorted = func(matrix_generated)\n",
    "        for row in matrix_sorted:\n",
    "            print(row)\n",
    "    return wrapper\n",
    "\n",
    "# transforms 2D list to 1D and back\n",
    "def flatten(func):\n",
    "    def wrapper(matrix):\n",
    "        flat_matrix = [elem for row in matrix for elem in row]\n",
    "        flat_matrix = func(flat_matrix)\n",
    "        sorted_matrix = []\n",
    "        m = len(matrix)\n",
    "        n = len(matrix[0])\n",
    "        for i in range(m):\n",
    "            start = i * n\n",
    "            end = start + n\n",
    "            sorted_matrix.append(flat_matrix[start:end])\n",
    "        return sorted_matrix\n",
    "    return wrapper"
   ]
  },
  {
   "cell_type": "code",
   "execution_count": null,
   "id": "cleared-anniversary",
   "metadata": {
    "id": "cleared-anniversary",
    "outputId": "b7c76c60-4acb-4c14-9bfb-d4f8d71093a1"
   },
   "outputs": [],
   "source": [
    "# Сортировка выбором.\n",
    "# Берётся срез массива, в котором минимальный элемент переносят в самый левый угол,\n",
    "# после чего срез уменьшается и цикл повторяется.\n",
    "\n",
    "# sorting 2D list directly\n",
    "@driver\n",
    "@timer\n",
    "def bruteForce(matrix):\n",
    "    print(matrix)\n",
    "    m = len(matrix)\n",
    "    n = len(matrix[0])\n",
    "    for row in range(m):\n",
    "        min_row=row\n",
    "        for col in range(n):\n",
    "            min_col=col\n",
    "            for next_row in range(row,m):\n",
    "                unsorted = range(col,n) if next_row==row else range(n)\n",
    "                for next_col in unsorted:\n",
    "                    if matrix[next_row][next_col]<=matrix[min_row][min_col]:\n",
    "                        min_row=next_row\n",
    "                        min_col=next_col\n",
    "            matrix[row][col],matrix[min_row][min_col]=matrix[min_row][min_col],matrix[row][col]\n",
    "    return matrix\n",
    "\n",
    "# sorting transformed 1D list\n",
    "@driver\n",
    "@flatten\n",
    "@timer\n",
    "def selectSort(matrix):\n",
    "    n = len(matrix)\n",
    "    for i in range(n):             \n",
    "        min_idx = i\n",
    "        for j in range(i+1, n):\n",
    "            if matrix[j] < matrix[min_idx]:\n",
    "                min_idx = j\n",
    "        matrix[i], matrix[min_idx] = matrix[min_idx], matrix[i]\n",
    "    return matrix\n"
   ]
  },
  {
   "cell_type": "code",
   "execution_count": null,
   "id": "11111d4f",
   "metadata": {},
   "outputs": [],
   "source": [
    "bruteForce()"
   ]
  },
  {
   "cell_type": "code",
   "execution_count": null,
   "id": "b5a3cfda",
   "metadata": {},
   "outputs": [],
   "source": [
    "selectSort()"
   ]
  },
  {
   "cell_type": "code",
   "execution_count": null,
   "id": "roman-silly",
   "metadata": {
    "id": "roman-silly",
    "outputId": "84666b71-fb68-4c07-d27d-e716af29fcbb",
    "scrolled": true
   },
   "outputs": [],
   "source": [
    "# Сортировка вставкой.\n",
    "@driver\n",
    "@flatten\n",
    "@timer\n",
    "def insertionSort(matrix):\n",
    "    for i in range(1, len(matrix)):\n",
    "        buffer = matrix[i]\n",
    "        j = i - 1\n",
    "        while j >= 0 and matrix[j] > buffer:\n",
    "            matrix[j+1] = matrix[j]\n",
    "            j -= 1\n",
    "        matrix[j+1] = buffer\n",
    "    return matrix"
   ]
  },
  {
   "cell_type": "code",
   "execution_count": null,
   "id": "17fe41fc",
   "metadata": {},
   "outputs": [],
   "source": [
    "insertionSort()"
   ]
  },
  {
   "cell_type": "code",
   "execution_count": null,
   "id": "vital-implementation",
   "metadata": {
    "id": "vital-implementation",
    "outputId": "7b648bf5-37a5-4d47-926d-b799f7a23be2"
   },
   "outputs": [],
   "source": [
    "# Сортировка обменом. || Сортировка пузырьком.\n",
    "\n",
    "@driver\n",
    "@flatten\n",
    "@timer\n",
    "def bubbleSort(matrix):\n",
    "    n = len(matrix)\n",
    "    for i in range(n):\n",
    "        swapped = False\n",
    "        for j in range(0, n-i-1):\n",
    "            if matrix[j] > matrix[j+1]:\n",
    "                matrix[j],matrix[j+1] = matrix[j+1],matrix[j]\n",
    "                swapped = True\n",
    "        if swapped == False:\n",
    "            break\n",
    "    return matrix"
   ]
  },
  {
   "cell_type": "code",
   "execution_count": null,
   "id": "12c0a322",
   "metadata": {},
   "outputs": [],
   "source": [
    "bubbleSort()"
   ]
  },
  {
   "cell_type": "code",
   "execution_count": null,
   "id": "veterinary-glory",
   "metadata": {
    "id": "veterinary-glory",
    "outputId": "9cc2a9ff-ec7a-43de-e4a8-47945d030986"
   },
   "outputs": [],
   "source": [
    "# Сортировка Шелла.\n",
    "\n",
    "@driver\n",
    "@flatten\n",
    "@timer\n",
    "def shellSort(matrix):\n",
    "    n = len(matrix)\n",
    "    gap = n // 2\n",
    "    while gap > 0:\n",
    "        for i in range(gap, n):\n",
    "            buffer = matrix[i]\n",
    "            j = i\n",
    "            while j >= gap and matrix[j - gap] > buffer:\n",
    "                matrix[j] = matrix[j - gap]\n",
    "                j -= gap\n",
    "            matrix[j] = buffer\n",
    "        gap //= 2\n",
    "    return matrix"
   ]
  },
  {
   "cell_type": "code",
   "execution_count": null,
   "id": "54b8aefd",
   "metadata": {},
   "outputs": [],
   "source": [
    "shellSort()"
   ]
  },
  {
   "cell_type": "code",
   "execution_count": null,
   "id": "correct-chaos",
   "metadata": {
    "id": "correct-chaos",
    "outputId": "f4d9aef1-8a2f-46a0-def0-4c9e049f5c77"
   },
   "outputs": [],
   "source": [
    "# Быстрая сортировка.\n",
    "\n",
    "@driver\n",
    "@flatten\n",
    "@timer\n",
    "def quickSort(matrix):\n",
    "    def swap(matrix, i, j):\n",
    "            matrix[i], matrix[j] = matrix[j], matrix[i]\n",
    "    def partition(matrix, low, high):\n",
    "        pivot = matrix[high]\n",
    "        i = low - 1\n",
    "        for j in range(low, high):\n",
    "            if matrix[j] < pivot:\n",
    "                i += 1\n",
    "                swap(matrix, i, j)\n",
    "        swap(matrix, i + 1, high)\n",
    "        return i+1\n",
    "    def recursion(matrix, low, high):\n",
    "        if low < high:\n",
    "            pi = partition(matrix, low, high)\n",
    "            recursion(matrix, low, pi-1)\n",
    "            recursion(matrix, pi+1, high)\n",
    "    n = len(matrix)\n",
    "    recursion(matrix, 0, n-1)\n",
    "    return matrix"
   ]
  },
  {
   "cell_type": "code",
   "execution_count": null,
   "id": "24d38296",
   "metadata": {},
   "outputs": [],
   "source": [
    "quickSort()"
   ]
  },
  {
   "cell_type": "code",
   "execution_count": 22,
   "id": "french-czech",
   "metadata": {
    "colab": {
     "base_uri": "https://localhost:8080/",
     "height": 217
    },
    "executionInfo": {
     "elapsed": 433,
     "status": "error",
     "timestamp": 1645638345253,
     "user": {
      "displayName": "Sergey Simonov",
      "photoUrl": "https://lh3.googleusercontent.com/a-/AOh14GhQdeIfzzsg8bfb7DLHaLzEFH8Ebg2FyuaL9YoQyA=s64",
      "userId": "14094206399671235086"
     },
     "user_tz": -180
    },
    "id": "french-czech",
    "outputId": "7e38b779-8bbf-4955-c3ad-2a6be0ee386a"
   },
   "outputs": [],
   "source": [
    "# Турнирная сортировка.\n",
    "\n",
    "@driver\n",
    "@flatten\n",
    "@timer\n",
    "def heapSort(matrix):\n",
    "    def heapify(matrix, n, i):\n",
    "        largest = i \n",
    "        l = 2 * i + 1 \n",
    "        r = 2 * i + 2  \n",
    "        if l < n and matrix[l] > matrix[largest]:\n",
    "            largest = l\n",
    "        if r < n and matrix[r] > matrix[largest]:\n",
    "            largest = r\n",
    "        if largest != i:\n",
    "            matrix[i], matrix[largest] = matrix[largest], matrix[i]  # Swap\n",
    "            heapify(matrix, n, largest)\n",
    "    n = len(matrix) \n",
    "    for i in range(n // 2 - 1, -1, -1):\n",
    "        heapify(matrix, n, i)\n",
    "    for i in range(n - 1, 0, -1):\n",
    "        matrix[0], matrix[i] = matrix[i], matrix[0] \n",
    "        heapify(matrix, i, 0)\n",
    "    return matrix\n"
   ]
  },
  {
   "cell_type": "code",
   "execution_count": null,
   "id": "b60157d6",
   "metadata": {},
   "outputs": [],
   "source": [
    "heapSort()"
   ]
  },
  {
   "cell_type": "markdown",
   "id": "rental-jerusalem",
   "metadata": {
    "id": "rental-jerusalem"
   },
   "source": [
    "### Вывод\n"
   ]
  },
  {
   "cell_type": "markdown",
   "id": "9d108a0a",
   "metadata": {
    "id": "9d108a0a"
   },
   "source": []
  }
 ],
 "metadata": {
  "colab": {
   "provenance": []
  },
  "kernelspec": {
   "display_name": ".venv",
   "language": "python",
   "name": "python3"
  },
  "language_info": {
   "codemirror_mode": {
    "name": "ipython",
    "version": 3
   },
   "file_extension": ".py",
   "mimetype": "text/x-python",
   "name": "python",
   "nbconvert_exporter": "python",
   "pygments_lexer": "ipython3",
   "version": "3.13.2"
  }
 },
 "nbformat": 4,
 "nbformat_minor": 5
}
