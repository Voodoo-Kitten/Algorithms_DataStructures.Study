{
  "cells": [
    {
      "cell_type": "markdown",
      "id": "fifteen-sailing",
      "metadata": {
        "id": "fifteen-sailing"
      },
      "source": [
        "# Лабораторная работа №2\n",
        "## Выполнил студент группы ФИО ГРУППА"
      ]
    },
    {
      "cell_type": "markdown",
      "id": "arctic-stocks",
      "metadata": {
        "id": "arctic-stocks"
      },
      "source": [
        "Реализовать следующие структуры данных:\n",
        "  \n",
        "● <b> Стек (stack): </b>  \n",
        "Операции для стека:\n",
        "<i> инициализация, проверка на пустоту, добавление нового элемента в начало, извлечение элемента из начала;  </i>  \n",
        "  \n",
        "● <b> Дек (двусторонняя очередь, deque):  </b>  \n",
        "Операции для дека:\n",
        "<i> инициализация, проверка на пустоту, добавление нового элемента в начало, добавление нового элемента в конец, извлечение элемента из начала, извлечение элемента из конца. </i>  \n",
        "  \n",
        "<i> Разработать программу обработки данных, содержащихся в заранее подготовленном txt-файле, в соответствии с заданиями, применив указанную в задании структуру данных. Результат работы программы вывести на экран и сохранить в отдельном txt-файле. </i>"
      ]
    },
    {
      "cell_type": "markdown",
      "id": "5d7edb08",
      "metadata": {
        "id": "5d7edb08",
        "scrolled": true
      },
      "source": [
        "### Задание №1\n",
        "Отсортировать строки файла, содержащие названия книг, в алфавитном порядке с использованием двух деков."
      ]
    },
    {
      "cell_type": "code",
      "execution_count": null,
      "id": "17702ade",
      "metadata": {
        "id": "17702ade"
      },
      "outputs": [],
      "source": [
        "from collections import deque\n",
        "\n",
        "file_path = \"books.txt\"\n",
        "with open(file_path, \"r\") as file:\n",
        "    buffer_deque = deque(file.read().split(\",\"))\n",
        "sorted_deque=deque()\n",
        "while buffer_deque:\n",
        "    min_index = 0\n",
        "    for i in range(1, len(buffer_deque)):\n",
        "        if buffer_deque[i] < buffer_deque[min_index]:\n",
        "            min_index = i\n",
        "    buffer_deque.rotate(-min_index)\n",
        "    sorted_deque.append(buffer_deque.popleft())\n",
        "for item in sorted_deque:\n",
        "    print(item)"
      ]
    },
    {
      "cell_type": "markdown",
      "id": "49fbd2a0",
      "metadata": {
        "id": "49fbd2a0"
      },
      "source": [
        "### Задание №2\n",
        "Дек содержит последовательность символов для шифровки сообщений. Дан текстовый файл, содержащий зашифрованное сообщение. Пользуясь деком, расшифровать текст.\n",
        "Известно, что при шифровке каждый символ сообщения заменялся следующим за ним в деке по часовой стрелке через один."
      ]
    },
    {
      "cell_type": "code",
      "execution_count": 5,
      "id": "81cab7a8",
      "metadata": {
        "id": "81cab7a8"
      },
      "outputs": [
        {
          "name": "stdout",
          "output_type": "stream",
          "text": [
            "Encrypted: Nqpfqp Dtkfig Ku Hcnnkpi Fqyp\n",
            "Decrypted: London Bridge Is Falling Down\n"
          ]
        }
      ],
      "source": [
        "from collections import deque\n",
        "\n",
        "def caesar(text, shift, encrypt):\n",
        "    alphabet=deque('abcdefghijklmnopqrstuvwxyz')\n",
        "    result = []\n",
        "    for char in text:\n",
        "        if char.lower() in alphabet:\n",
        "            original_index = alphabet.index(char.lower())\n",
        "            new_index = (original_index+shift)%26 if encrypt == True else (original_index-shift)%26\n",
        "            new_char = alphabet[new_index]\n",
        "            if char.isupper():\n",
        "                new_char = new_char.upper()\n",
        "            result.append(new_char)\n",
        "        else:\n",
        "            result.append(char)\n",
        "    return ''.join(result)\n",
        "\n",
        "file_path = \"cipher.txt\"\n",
        "with open(file_path, \"r\") as file:\n",
        "    text = file.read()\n",
        "encrypted = caesar(text, 2, True)\n",
        "print(f\"Encrypted: {encrypted}\")\n",
        "decrypted = caesar(encrypted, 2, False)\n",
        "print(f\"Decrypted: {decrypted}\")"
      ]
    },
    {
      "cell_type": "markdown",
      "id": "c0894f47",
      "metadata": {
        "id": "c0894f47"
      },
      "source": [
        "### Задание №3\n",
        "Даны три стержня и n дисков различного размера. Диски можно надевать на стержни, образуя из них башни. Перенести n дисков со стержня А на стержень С, сохранив их первоначальный порядок. При переносе дисков необходимо соблюдать следующие правила:\n",
        "- на каждом шаге со стержня на стержень переносить только один диск;\n",
        "- диск нельзя помещать на диск меньшего размера;\n",
        "- для промежуточного хранения можно использовать стержень В.\n",
        "Реализовать алгоритм, используя три стека вместо стержней А, В, С. Информация о дисках хранится в исходном файле."
      ]
    },
    {
      "cell_type": "code",
      "execution_count": null,
      "id": "9e91a9d4",
      "metadata": {
        "id": "9e91a9d4"
      },
      "outputs": [],
      "source": []
    },
    {
      "cell_type": "markdown",
      "id": "e5b0be17",
      "metadata": {
        "id": "e5b0be17"
      },
      "source": [
        "### Задание №4\n",
        "Дан текстовый файл с программой на алгоритмическом языке. За один просмотр файла проверить баланс круглых скобок в тексте, используя стек."
      ]
    },
    {
      "cell_type": "code",
      "execution_count": 3,
      "id": "5b1df60a",
      "metadata": {
        "id": "5b1df60a"
      },
      "outputs": [
        {
          "name": "stdout",
          "output_type": "stream",
          "text": [
            "(())((()()(()()(()))\n",
            "Unbalanced\n"
          ]
        }
      ],
      "source": [
        "from queue import LifoQueue\n",
        "\n",
        "class PeekableLifoQueue(LifoQueue):\n",
        "    def peek(self):\n",
        "        with self.mutex:  # Ensure thread safety\n",
        "            if not self.queue:\n",
        "                raise ValueError(\"Stack is empty!\")\n",
        "            return self.queue[-1]\n",
        "\n",
        "stack = PeekableLifoQueue()\n",
        "\n",
        "def bracket_check(text):\n",
        "    s = \"\"\n",
        "    for char in text:\n",
        "        if char in (\"(\",\")\"):\n",
        "            s+=char\n",
        "            if stack.empty() or stack.peek() == char:\n",
        "                stack.put(char)\n",
        "            else:\n",
        "                stack.get()\n",
        "    print(s)        \n",
        "    return True if stack.empty() else False\n",
        "\n",
        "file_path = \"brackets_unbalanced.txt\"\n",
        "with open(file_path, \"r\") as file:\n",
        "    text = file.read()\n",
        "balanced = bracket_check(text)\n",
        "print(\"Balanced\" if balanced else \"Unbalanced\")"
      ]
    },
    {
      "cell_type": "markdown",
      "id": "c44cdd6b",
      "metadata": {
        "id": "c44cdd6b"
      },
      "source": [
        "### Задание №5\n",
        "Дан текстовый файл с программой на алгоритмическом языке. За один просмотр файла проверить баланс квадратных скобок в тексте, используя дек."
      ]
    },
    {
      "cell_type": "code",
      "execution_count": 26,
      "id": "36b8f400",
      "metadata": {
        "id": "36b8f400"
      },
      "outputs": [
        {
          "name": "stdout",
          "output_type": "stream",
          "text": [
            "[][[][][][][][][]\n",
            "Unbalanced\n"
          ]
        }
      ],
      "source": [
        "from collections import deque\n",
        "file_path = \"brackets_unbalanced.txt\"\n",
        "with open(file_path, \"r\") as file:\n",
        "    text = file.read()\n",
        "b = deque()\n",
        "s = \"\"\n",
        "for char in text:\n",
        "    if char in (\"[\",\"]\"):\n",
        "        s+=char\n",
        "        if len(b) == 0 or b[0] == char:\n",
        "            b.append(char)\n",
        "        else:\n",
        "            b.popleft()\n",
        "print(s)\n",
        "print(\"Unbalanced\" if b else \"Balanced\")"
      ]
    },
    {
      "cell_type": "markdown",
      "id": "59d13dc7",
      "metadata": {
        "id": "59d13dc7"
      },
      "source": [
        "### Задание №6\n",
        "Дан файл из символов. Используя стек, за один просмотр файла напечатать сначала все цифры, затем все буквы, и, наконец, все остальные символы, сохраняя исходный порядок в каждой группе символов."
      ]
    },
    {
      "cell_type": "code",
      "execution_count": null,
      "id": "297e36c2",
      "metadata": {
        "id": "297e36c2"
      },
      "outputs": [
        {
          "name": "stdout",
          "output_type": "stream",
          "text": [
            "Digits:  4596217485397\n",
            "Letters:  SRQPONMLKJIHGFZyxWvuTsrQPonmljYhEDVCZXkBAMqNRpoTiUvWHgYzFedSLcxQnmPabjK\n",
            "Other:    ))^&)])([?\n",
            "  (*!])([\n",
            "  +$][)][(@\n",
            "  #(&!])([*\n",
            "+*^][)][(\n",
            "  #&][(@$\n",
            "  ?)*()(!\n",
            "  )][+#(\n",
            "  $@]*!^&%[\n"
          ]
        }
      ],
      "source": [
        "from queue import LifoQueue\n",
        "\n",
        "def process_file(filename):\n",
        "    stack = LifoQueue()\n",
        "    with open(filename, 'r', encoding='utf-8') as file:\n",
        "        while True:\n",
        "            char = file.read(1)\n",
        "            if not char:\n",
        "                break\n",
        "            stack.put(char)\n",
        "    digits=[]\n",
        "    letters=[]\n",
        "    other=[]\n",
        "    while not stack.empty():\n",
        "        char = stack.get()\n",
        "        if char.isdigit():\n",
        "            digits.append(char)\n",
        "        elif char.isalpha():\n",
        "            letters.append(char)\n",
        "        else:\n",
        "            other.append(char)\n",
        "\n",
        "    print(\"Digits: \", ''.join(digits))\n",
        "    print(\"Letters: \", ''.join(letters))\n",
        "    print(\"Other: \", ''.join(other))\n",
        "\n",
        "process_file('brackets_balanced.txt')"
      ]
    },
    {
      "cell_type": "markdown",
      "id": "973f68bd",
      "metadata": {
        "id": "973f68bd"
      },
      "source": [
        "### Задание №7\n",
        "Дан файл из целых чисел. Используя дек, за один просмотр файла напечатать сначала все отрицательные числа, затем все положительные числа, сохраняя исходный порядок в каждой группе."
      ]
    },
    {
      "cell_type": "code",
      "execution_count": 36,
      "id": "c56fad66",
      "metadata": {
        "id": "c56fad66"
      },
      "outputs": [
        {
          "name": "stdout",
          "output_type": "stream",
          "text": [
            "42\n",
            "-7\n",
            "0\n",
            "128\n",
            "-1\n",
            "9999\n",
            "-42\n",
            "17\n",
            "-2048\n",
            "3\n",
            "-17\n",
            "100\n",
            "-999\n",
            "256\n",
            "-32768\n",
            "Negatives:  -7 -1 -42 -2048 -17 -999 -32768 \n",
            "Positives:  42 128 9999 17 3 100 256 "
          ]
        }
      ],
      "source": [
        "from collections import deque\n",
        "b = deque()\n",
        "file_path = \"numbers.txt\"\n",
        "with open(file_path, \"r\") as file:\n",
        "    for line in file:\n",
        "        number = int(line.strip())\n",
        "        print(number)\n",
        "        if number < 0:\n",
        "            b.appendleft(number)\n",
        "        else:\n",
        "            b.append(number)\n",
        "print(\"Negatives: \", end=\" \")\n",
        "for num in reversed(b):\n",
        "    if num < 0:\n",
        "        print(num, end=\" \")\n",
        "print(\"\\nPositives: \", end=\" \")\n",
        "for num in b:\n",
        "    if num > 0:\n",
        "        print(num, end=\" \")\n"
      ]
    },
    {
      "cell_type": "markdown",
      "id": "b9228191",
      "metadata": {
        "id": "b9228191"
      },
      "source": [
        "### Задание №8\n",
        "Дан текстовый файл. Используя стек, сформировать новый текстовый файл, содержащий строки исходного файла, записанные в обратном порядке: первая строка становится последней, вторая – предпоследней и т.д."
      ]
    },
    {
      "cell_type": "code",
      "execution_count": 11,
      "id": "981fbdfe",
      "metadata": {
        "id": "981fbdfe"
      },
      "outputs": [
        {
          "name": "stdout",
          "output_type": "stream",
          "text": [
            "Harder\n",
            "Better\n",
            "Faster\n",
            "Stronger\n",
            "Stronger\n",
            "Faster\n",
            "Better\n",
            "Harder\n",
            "\n"
          ]
        }
      ],
      "source": [
        "from queue import LifoQueue\n",
        "\n",
        "def reverseline(input_filename, output_filename):\n",
        "    stack = LifoQueue()\n",
        "    with open(input_filename, 'r', encoding='utf-8') as input_file:\n",
        "        for line in input_file:\n",
        "            stack.put(line.strip())\n",
        "    with open(output_filename, 'w', encoding='utf-8') as output_file:\n",
        "        while not stack.empty():\n",
        "            output_file.write(stack.get()+'\\n')\n",
        "                \n",
        "reverseline('lines_input.txt', 'lines_output.txt')\n",
        "with open('lines_input.txt', 'r') as file:\n",
        "    contents = file.read()\n",
        "    print(contents)\n",
        "with open('lines_output.txt', 'r') as file:\n",
        "    contents = file.read()\n",
        "    print(contents)"
      ]
    },
    {
      "cell_type": "markdown",
      "id": "rental-jerusalem",
      "metadata": {
        "id": "rental-jerusalem"
      },
      "source": [
        "### Вывод\n"
      ]
    },
    {
      "cell_type": "markdown",
      "id": "0c2b8899",
      "metadata": {
        "id": "0c2b8899"
      },
      "source": []
    }
  ],
  "metadata": {
    "colab": {
      "provenance": []
    },
    "kernelspec": {
      "display_name": ".venv",
      "language": "python",
      "name": "python3"
    },
    "language_info": {
      "codemirror_mode": {
        "name": "ipython",
        "version": 3
      },
      "file_extension": ".py",
      "mimetype": "text/x-python",
      "name": "python",
      "nbconvert_exporter": "python",
      "pygments_lexer": "ipython3",
      "version": "3.13.2"
    }
  },
  "nbformat": 4,
  "nbformat_minor": 5
}
